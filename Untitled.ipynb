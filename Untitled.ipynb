{
 "cells": [
  {
   "cell_type": "code",
   "execution_count": 1,
   "id": "caea5122",
   "metadata": {},
   "outputs": [],
   "source": [
    "import pandas as pd\n",
    "import numpy as np\n",
    "from imblearn.combine import SMOTETomek ##For upsampling\n",
    "from sklearn.model_selection import train_test_split,cross_val_score,RandomizedSearchCV\n",
    "from sklearn.ensemble import RandomForestClassifier\n",
    "from sklearn.metrics import confusion_matrix,classification_report\n",
    "import pickle #for serialization\n",
    "from sklearn import metrics\n",
    "import warnings\n",
    "warnings.filterwarnings(\"ignore\")"
   ]
  },
  {
   "cell_type": "code",
   "execution_count": 2,
   "id": "a5044c4b",
   "metadata": {},
   "outputs": [],
   "source": [
    "dataset=pd.read_csv(\"diabetes.csv\")##read our dataset\n"
   ]
  },
  {
   "cell_type": "code",
   "execution_count": 3,
   "id": "644db2c1",
   "metadata": {},
   "outputs": [
    {
     "name": "stdout",
     "output_type": "stream",
     "text": [
      "(768, 8) (768,)\n"
     ]
    }
   ],
   "source": [
    "##Lets separate features into dependant and independent feature\n",
    "X=dataset.drop(\"Outcome\",axis=1)\n",
    "y=dataset[\"Outcome\"]\n",
    "print(X.shape,y.shape)"
   ]
  },
  {
   "cell_type": "code",
   "execution_count": 4,
   "id": "97fb9fd7",
   "metadata": {},
   "outputs": [
    {
     "data": {
      "text/plain": [
       "0    500\n",
       "1    268\n",
       "Name: Outcome, dtype: int64"
      ]
     },
     "execution_count": 4,
     "metadata": {},
     "output_type": "execute_result"
    }
   ],
   "source": [
    "##Lets see the count of our target feature\n",
    "y.value_counts()##returns count of unique class in that feature"
   ]
  },
  {
   "cell_type": "markdown",
   "id": "9d7e0481",
   "metadata": {},
   "source": [
    "### As there are only 39% of data for class 1 records in the dataset the model might get baised"
   ]
  },
  {
   "cell_type": "markdown",
   "id": "a5007441",
   "metadata": {},
   "source": [
    " <b>The problem caused by imbalanced dataset is it sort of creates bias towards one class\n",
    " thus leading to wrong predictions</b>"
   ]
  },
  {
   "cell_type": "markdown",
   "id": "b2a79a7e",
   "metadata": {},
   "source": [
    "# Upsampling\n",
    "###  It is nothing but adding more copies to our minority class.Good option when we have small amount of data"
   ]
  },
  {
   "cell_type": "code",
   "execution_count": 5,
   "id": "0ce44c62",
   "metadata": {},
   "outputs": [],
   "source": [
    "smote=SMOTETomek(random_state=42,n_jobs=-1)##Library used to do upsampling\n",
    "X_,Y_=smote.fit_resample(X,y)"
   ]
  },
  {
   "cell_type": "code",
   "execution_count": 6,
   "id": "54182eaf",
   "metadata": {},
   "outputs": [
    {
     "name": "stdout",
     "output_type": "stream",
     "text": [
      "(952, 8) (952,)\n"
     ]
    }
   ],
   "source": [
    "print(X_.shape,Y_.shape)##Dimensions of data increased"
   ]
  },
  {
   "cell_type": "code",
   "execution_count": 7,
   "id": "cc159afc",
   "metadata": {},
   "outputs": [
    {
     "data": {
      "text/plain": [
       "0    476\n",
       "1    476\n",
       "Name: Outcome, dtype: int64"
      ]
     },
     "execution_count": 7,
     "metadata": {},
     "output_type": "execute_result"
    }
   ],
   "source": [
    "Y_.value_counts()"
   ]
  },
  {
   "cell_type": "markdown",
   "id": "7a2173a5",
   "metadata": {},
   "source": [
    "### As we can see that now our dataset is balanced.Now we can create our model"
   ]
  },
  {
   "cell_type": "code",
   "execution_count": 8,
   "id": "51319cea",
   "metadata": {},
   "outputs": [],
   "source": [
    "##Model"
   ]
  },
  {
   "cell_type": "code",
   "execution_count": 9,
   "id": "0000ef78",
   "metadata": {},
   "outputs": [
    {
     "name": "stdout",
     "output_type": "stream",
     "text": [
      "(714, 8) (714,)\n"
     ]
    }
   ],
   "source": [
    "x_train,x_test,y_train,y_test=train_test_split(X_,Y_,test_size=0.25,random_state=42)\n",
    "print(x_train.shape,y_train.shape)"
   ]
  },
  {
   "cell_type": "code",
   "execution_count": 10,
   "id": "1305443b",
   "metadata": {},
   "outputs": [],
   "source": [
    "col=[\"Glucose\",\"BloodPressure\",\"SkinThickness\",\"Insulin\",\"BMI\"]\n",
    "for feature in col:\n",
    "    x_train[feature].replace(0,x_train[feature].median(),inplace=True)"
   ]
  },
  {
   "cell_type": "code",
   "execution_count": 11,
   "id": "03077a98",
   "metadata": {},
   "outputs": [
    {
     "data": {
      "text/plain": [
       "RandomForestClassifier(n_jobs=-1)"
      ]
     },
     "execution_count": 11,
     "metadata": {},
     "output_type": "execute_result"
    }
   ],
   "source": [
    "rf=RandomForestClassifier(n_jobs=-1)\n",
    "rf.fit(x_train,y_train)"
   ]
  },
  {
   "cell_type": "code",
   "execution_count": 12,
   "id": "3e9e551d",
   "metadata": {},
   "outputs": [],
   "source": [
    "score=cross_val_score(rf,x_train,y_train,cv=10,n_jobs=-1)"
   ]
  },
  {
   "cell_type": "code",
   "execution_count": 13,
   "id": "fd1ece1e",
   "metadata": {},
   "outputs": [
    {
     "data": {
      "text/plain": [
       "array([0.88888889, 0.77777778, 0.90277778, 0.88888889, 0.78873239,\n",
       "       0.77464789, 0.78873239, 0.88732394, 0.8028169 , 0.76056338])"
      ]
     },
     "execution_count": 13,
     "metadata": {},
     "output_type": "execute_result"
    }
   ],
   "source": [
    "##Lets see the models training accuracy\n",
    "score"
   ]
  },
  {
   "cell_type": "code",
   "execution_count": 14,
   "id": "969d7961",
   "metadata": {},
   "outputs": [
    {
     "data": {
      "text/plain": [
       "(10,)"
      ]
     },
     "execution_count": 14,
     "metadata": {},
     "output_type": "execute_result"
    }
   ],
   "source": [
    "score.shape"
   ]
  },
  {
   "cell_type": "code",
   "execution_count": 15,
   "id": "2013d45d",
   "metadata": {},
   "outputs": [
    {
     "data": {
      "text/plain": [
       "0.8261150234741784"
      ]
     },
     "execution_count": 15,
     "metadata": {},
     "output_type": "execute_result"
    }
   ],
   "source": [
    "score.mean()"
   ]
  },
  {
   "cell_type": "markdown",
   "id": "825797f0",
   "metadata": {},
   "source": [
    "### Mean training accuracy is   82.6%"
   ]
  },
  {
   "cell_type": "code",
   "execution_count": 16,
   "id": "5ed9c3b5",
   "metadata": {},
   "outputs": [
    {
     "data": {
      "text/plain": [
       "array([0.79166667, 0.875     , 0.75      , 0.875     , 0.875     ,\n",
       "       0.95833333, 0.83333333, 0.75      , 0.7826087 , 0.7826087 ])"
      ]
     },
     "execution_count": 16,
     "metadata": {},
     "output_type": "execute_result"
    }
   ],
   "source": [
    "score_test=cross_val_score(rf,x_test,y_test,cv=10,n_jobs=-1)\n",
    "score_test"
   ]
  },
  {
   "cell_type": "code",
   "execution_count": 17,
   "id": "2b38f3f0",
   "metadata": {},
   "outputs": [
    {
     "data": {
      "text/plain": [
       "0.8273550724637682"
      ]
     },
     "execution_count": 17,
     "metadata": {},
     "output_type": "execute_result"
    }
   ],
   "source": [
    "score_test.mean()"
   ]
  },
  {
   "cell_type": "markdown",
   "id": "3b064221",
   "metadata": {},
   "source": [
    "### Mean test accuracy is 82.73 %"
   ]
  },
  {
   "cell_type": "code",
   "execution_count": 18,
   "id": "78601767",
   "metadata": {},
   "outputs": [
    {
     "name": "stdout",
     "output_type": "stream",
     "text": [
      "The maximum accuracy that our model can get is 0.96 and minimum accuracy the model can get is 0.75\n"
     ]
    }
   ],
   "source": [
    "print(\"The maximum accuracy that our model can get is {} and minimum accuracy the model can get is {}\".format(np.round(score_test.max(),2),np.round(score_test.min(),2)))"
   ]
  },
  {
   "cell_type": "code",
   "execution_count": 19,
   "id": "48282545",
   "metadata": {},
   "outputs": [
    {
     "data": {
      "text/plain": [
       "array([[99, 20],\n",
       "       [20, 99]])"
      ]
     },
     "execution_count": 19,
     "metadata": {},
     "output_type": "execute_result"
    }
   ],
   "source": [
    "pred=rf.predict(x_test)\n",
    "confusion_matrix(y_test,pred)"
   ]
  },
  {
   "cell_type": "code",
   "execution_count": 20,
   "id": "a67c24fc",
   "metadata": {},
   "outputs": [
    {
     "name": "stdout",
     "output_type": "stream",
     "text": [
      "              precision    recall  f1-score   support\n",
      "\n",
      "           0       0.83      0.83      0.83       119\n",
      "           1       0.83      0.83      0.83       119\n",
      "\n",
      "    accuracy                           0.83       238\n",
      "   macro avg       0.83      0.83      0.83       238\n",
      "weighted avg       0.83      0.83      0.83       238\n",
      "\n"
     ]
    }
   ],
   "source": [
    "print(classification_report(y_test,pred))"
   ]
  },
  {
   "cell_type": "code",
   "execution_count": null,
   "id": "e0e91e36",
   "metadata": {},
   "outputs": [],
   "source": [
    "##hyperparmeters of random forest\n",
    "RandomForestClassifier()"
   ]
  },
  {
   "cell_type": "markdown",
   "id": "a7384c95",
   "metadata": {},
   "source": [
    "## Hyperparmeter Tunning"
   ]
  },
  {
   "cell_type": "code",
   "execution_count": 21,
   "id": "5402ec34",
   "metadata": {},
   "outputs": [
    {
     "name": "stdout",
     "output_type": "stream",
     "text": [
      "{'n_estimators': [200, 400, 600, 800, 1000, 1200, 1400, 1600, 1800, 2000], 'max_features': ['auto', 'sqrt', 'log2'], 'max_depth': [10, 120, 230, 340, 450, 560, 670, 780, 890, 1000], 'min_samples_split': [2, 5, 10, 14], 'min_samples_leaf': [1, 2, 4, 6, 8], 'criterion': ['entropy', 'gini']}\n"
     ]
    }
   ],
   "source": [
    "# Number of trees in random forest\n",
    "n_estimators = [int(x) for x in np.linspace(start = 200, stop = 2000, num = 10)]\n",
    "# Number of features to consider at every split\n",
    "max_features = ['auto', 'sqrt','log2']\n",
    "# Maximum number of levels in tree\n",
    "max_depth = [int(x) for x in np.linspace(10, 1000,10)]\n",
    "# Minimum number of samples required to split a node\n",
    "min_samples_split = [2, 5, 10,14]\n",
    "# Minimum number of samples required at each leaf node\n",
    "min_samples_leaf = [1, 2, 4,6,8]\n",
    "# Create the random grid\n",
    "random_grid = {'n_estimators': n_estimators,\n",
    "               'max_features': max_features,\n",
    "               'max_depth': max_depth,\n",
    "               'min_samples_split': min_samples_split,\n",
    "               'min_samples_leaf': min_samples_leaf,\n",
    "              'criterion':['entropy','gini']}\n",
    "print(random_grid)"
   ]
  },
  {
   "cell_type": "code",
   "execution_count": 22,
   "id": "410e4cf6",
   "metadata": {},
   "outputs": [
    {
     "name": "stdout",
     "output_type": "stream",
     "text": [
      "Fitting 10 folds for each of 10 candidates, totalling 100 fits\n"
     ]
    },
    {
     "data": {
      "text/plain": [
       "RandomizedSearchCV(cv=10, estimator=RandomForestClassifier(n_jobs=-1),\n",
       "                   n_jobs=-1,\n",
       "                   param_distributions={'criterion': ['entropy', 'gini'],\n",
       "                                        'max_depth': [10, 120, 230, 340, 450,\n",
       "                                                      560, 670, 780, 890,\n",
       "                                                      1000],\n",
       "                                        'max_features': ['auto', 'sqrt',\n",
       "                                                         'log2'],\n",
       "                                        'min_samples_leaf': [1, 2, 4, 6, 8],\n",
       "                                        'min_samples_split': [2, 5, 10, 14],\n",
       "                                        'n_estimators': [200, 400, 600, 800,\n",
       "                                                         1000, 1200, 1400, 1600,\n",
       "                                                         1800, 2000]},\n",
       "                   verbose=2)"
      ]
     },
     "execution_count": 22,
     "metadata": {},
     "output_type": "execute_result"
    }
   ],
   "source": [
    "rs=RandomizedSearchCV(rf,random_grid,cv=10,verbose=2,n_jobs=-1)\n",
    "rs.fit(x_train,y_train)"
   ]
  },
  {
   "cell_type": "code",
   "execution_count": 23,
   "id": "26ea1fec",
   "metadata": {},
   "outputs": [
    {
     "data": {
      "text/plain": [
       "{'n_estimators': 1600,\n",
       " 'min_samples_split': 10,\n",
       " 'min_samples_leaf': 1,\n",
       " 'max_features': 'log2',\n",
       " 'max_depth': 1000,\n",
       " 'criterion': 'entropy'}"
      ]
     },
     "execution_count": 23,
     "metadata": {},
     "output_type": "execute_result"
    }
   ],
   "source": [
    "rs.best_params_"
   ]
  },
  {
   "cell_type": "code",
   "execution_count": 24,
   "id": "9b3ae5f5",
   "metadata": {},
   "outputs": [
    {
     "data": {
      "text/plain": [
       "array([[ 96,  23],\n",
       "       [ 17, 102]])"
      ]
     },
     "execution_count": 24,
     "metadata": {},
     "output_type": "execute_result"
    }
   ],
   "source": [
    "pred=rs.predict(x_test)\n",
    "confusion_matrix(y_test,pred)"
   ]
  },
  {
   "cell_type": "code",
   "execution_count": 25,
   "id": "67a304c7",
   "metadata": {},
   "outputs": [
    {
     "name": "stdout",
     "output_type": "stream",
     "text": [
      "              precision    recall  f1-score   support\n",
      "\n",
      "           0       0.81      0.85      0.83       113\n",
      "           1       0.86      0.82      0.84       125\n",
      "\n",
      "    accuracy                           0.83       238\n",
      "   macro avg       0.83      0.83      0.83       238\n",
      "weighted avg       0.83      0.83      0.83       238\n",
      "\n"
     ]
    }
   ],
   "source": [
    "print(classification_report(pred,y_test))"
   ]
  },
  {
   "cell_type": "code",
   "execution_count": 26,
   "id": "389065ef",
   "metadata": {},
   "outputs": [
    {
     "data": {
      "text/plain": [
       "<sklearn.metrics._plot.roc_curve.RocCurveDisplay at 0x7f17e18b88b0>"
      ]
     },
     "execution_count": 26,
     "metadata": {},
     "output_type": "execute_result"
    },
    {
     "data": {
      "image/png": "[encoded data removed]",
      "text/plain": [
       "<Figure size 432x288 with 1 Axes>"
      ]
     },
     "metadata": {
      "needs_background": "light"
     },
     "output_type": "display_data"
    }
   ],
   "source": [
    "metrics.plot_roc_curve(rs,x_test,y_test)"
   ]
  },
  {
   "cell_type": "code",
   "execution_count": 27,
   "id": "e699c438",
   "metadata": {},
   "outputs": [],
   "source": [
    "model_file=open(\"model.pkl\",\"wb\")##to serialize\n",
    "pickle.dump(rs,model_file)\n",
    "model_file.close()##always remember to close it"
   ]
  },
  {
   "cell_type": "code",
   "execution_count": 28,
   "id": "24b89595",
   "metadata": {},
   "outputs": [],
   "source": [
    "##Test"
   ]
  },
  {
   "cell_type": "code",
   "execution_count": 29,
   "id": "9ebdc243",
   "metadata": {},
   "outputs": [],
   "source": [
    "model=pickle.load(open(\"model.pkl\",\"rb\"))\n",
    "pred=model.predict(X[:50])"
   ]
  },
  {
   "cell_type": "code",
   "execution_count": 30,
   "id": "92b0345b",
   "metadata": {},
   "outputs": [
    {
     "data": {
      "text/plain": [
       "array([[21,  4],\n",
       "       [ 4, 21]])"
      ]
     },
     "execution_count": 30,
     "metadata": {},
     "output_type": "execute_result"
    }
   ],
   "source": [
    "confusion_matrix(y[:50],pred)"
   ]
  },
  {
   "cell_type": "code",
   "execution_count": null,
   "id": "9ffac528",
   "metadata": {},
   "outputs": [],
   "source": []
  }
 ],
 "metadata": {
  "kernelspec": {
   "display_name": "Python 3",
   "language": "python",
   "name": "python3"
  },
  "language_info": {
   "codemirror_mode": {
    "name": "ipython",
    "version": 3
   },
   "file_extension": ".py",
   "mimetype": "text/x-python",
   "name": "python",
   "nbconvert_exporter": "python",
   "pygments_lexer": "ipython3",
   "version": "3.8.8"
  }
 },
 "nbformat": 4,
 "nbformat_minor": 5
}
